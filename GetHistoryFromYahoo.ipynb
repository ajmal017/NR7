{
 "cells": [
  {
   "cell_type": "code",
   "execution_count": 14,
   "metadata": {},
   "outputs": [],
   "source": [
    "import pandas_datareader as web"
   ]
  },
  {
   "cell_type": "code",
   "execution_count": 24,
   "metadata": {},
   "outputs": [
    {
     "data": {
      "text/html": [
       "<div>\n",
       "<style scoped>\n",
       "    .dataframe tbody tr th:only-of-type {\n",
       "        vertical-align: middle;\n",
       "    }\n",
       "\n",
       "    .dataframe tbody tr th {\n",
       "        vertical-align: top;\n",
       "    }\n",
       "\n",
       "    .dataframe thead th {\n",
       "        text-align: right;\n",
       "    }\n",
       "</style>\n",
       "<table border=\"1\" class=\"dataframe\">\n",
       "  <thead>\n",
       "    <tr style=\"text-align: right;\">\n",
       "      <th></th>\n",
       "      <th>High</th>\n",
       "      <th>Low</th>\n",
       "      <th>Open</th>\n",
       "      <th>Close</th>\n",
       "      <th>Volume</th>\n",
       "      <th>Adj Close</th>\n",
       "    </tr>\n",
       "    <tr>\n",
       "      <th>Date</th>\n",
       "      <th></th>\n",
       "      <th></th>\n",
       "      <th></th>\n",
       "      <th></th>\n",
       "      <th></th>\n",
       "      <th></th>\n",
       "    </tr>\n",
       "  </thead>\n",
       "  <tbody>\n",
       "    <tr>\n",
       "      <th>2018-01-01</th>\n",
       "      <td>1347.400024</td>\n",
       "      <td>1317.500000</td>\n",
       "      <td>1341.150024</td>\n",
       "      <td>1322.800049</td>\n",
       "      <td>1351760.0</td>\n",
       "      <td>1243.563110</td>\n",
       "    </tr>\n",
       "    <tr>\n",
       "      <th>2018-01-02</th>\n",
       "      <td>1334.800049</td>\n",
       "      <td>1310.099976</td>\n",
       "      <td>1330.000000</td>\n",
       "      <td>1315.599976</td>\n",
       "      <td>1920290.0</td>\n",
       "      <td>1236.794189</td>\n",
       "    </tr>\n",
       "    <tr>\n",
       "      <th>2018-01-03</th>\n",
       "      <td>1334.500000</td>\n",
       "      <td>1315.599976</td>\n",
       "      <td>1316.000000</td>\n",
       "      <td>1319.319946</td>\n",
       "      <td>1257120.0</td>\n",
       "      <td>1240.291504</td>\n",
       "    </tr>\n",
       "    <tr>\n",
       "      <th>2018-01-04</th>\n",
       "      <td>1331.000000</td>\n",
       "      <td>1320.000000</td>\n",
       "      <td>1325.000000</td>\n",
       "      <td>1328.550049</td>\n",
       "      <td>913082.0</td>\n",
       "      <td>1248.968872</td>\n",
       "    </tr>\n",
       "    <tr>\n",
       "      <th>2018-01-05</th>\n",
       "      <td>1349.750000</td>\n",
       "      <td>1325.000000</td>\n",
       "      <td>1325.000000</td>\n",
       "      <td>1344.599976</td>\n",
       "      <td>1153706.0</td>\n",
       "      <td>1264.057373</td>\n",
       "    </tr>\n",
       "  </tbody>\n",
       "</table>\n",
       "</div>"
      ],
      "text/plain": [
       "                   High          Low         Open        Close     Volume  \\\n",
       "Date                                                                        \n",
       "2018-01-01  1347.400024  1317.500000  1341.150024  1322.800049  1351760.0   \n",
       "2018-01-02  1334.800049  1310.099976  1330.000000  1315.599976  1920290.0   \n",
       "2018-01-03  1334.500000  1315.599976  1316.000000  1319.319946  1257120.0   \n",
       "2018-01-04  1331.000000  1320.000000  1325.000000  1328.550049   913082.0   \n",
       "2018-01-05  1349.750000  1325.000000  1325.000000  1344.599976  1153706.0   \n",
       "\n",
       "              Adj Close  \n",
       "Date                     \n",
       "2018-01-01  1243.563110  \n",
       "2018-01-02  1236.794189  \n",
       "2018-01-03  1240.291504  \n",
       "2018-01-04  1248.968872  \n",
       "2018-01-05  1264.057373  "
      ]
     },
     "execution_count": 24,
     "metadata": {},
     "output_type": "execute_result"
    }
   ],
   "source": [
    "start = datetime.datetime(2018, 1, 1)\n",
    "end = datetime.datetime(2019, 12, 31)\n",
    "df = web.DataReader(\"^NSEI\", 'yahoo', start, end)\n",
    "df1 = web.DataReader(\"TCS.NS\", 'yahoo', start, end)\n",
    "df1.head()"
   ]
  },
  {
   "cell_type": "code",
   "execution_count": null,
   "metadata": {},
   "outputs": [],
   "source": []
  }
 ],
 "metadata": {
  "kernelspec": {
   "display_name": "Python 3",
   "language": "python",
   "name": "python3"
  },
  "language_info": {
   "codemirror_mode": {
    "name": "ipython",
    "version": 3
   },
   "file_extension": ".py",
   "mimetype": "text/x-python",
   "name": "python",
   "nbconvert_exporter": "python",
   "pygments_lexer": "ipython3",
   "version": "3.8.5"
  }
 },
 "nbformat": 4,
 "nbformat_minor": 4
}
