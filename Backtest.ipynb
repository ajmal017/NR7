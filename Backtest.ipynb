{
 "cells": [
  {
   "cell_type": "code",
   "execution_count": 1,
   "metadata": {},
   "outputs": [],
   "source": [
    "import numpy as np\n",
    "import pandas as pd\n",
    "import copy"
   ]
  },
  {
   "cell_type": "code",
   "execution_count": 110,
   "metadata": {},
   "outputs": [],
   "source": [
    "df = pd.read_csv('RELIANCE5.csv')\n",
    "\n",
    "df['date'] = pd.to_datetime(df['date'])\n",
    "df= df.set_index('date')\n"
   ]
  },
  {
   "cell_type": "code",
   "execution_count": 111,
   "metadata": {},
   "outputs": [],
   "source": [
    "mindf = (df.resample('10min', base=5)\n",
    "               .agg({'open': 'first', 'high': 'max', 'low': 'min', 'close': 'last', 'volume':'mean'}))\n",
    "\n",
    "ma = mindf['close'].rolling(window=20).mean()\n",
    "mindf['ma']=ma\n",
    "mindf=mindf.dropna()"
   ]
  },
  {
   "cell_type": "code",
   "execution_count": 112,
   "metadata": {},
   "outputs": [],
   "source": [
    "import pandas_datareader as web\n",
    "from pandas import DataFrame"
   ]
  },
  {
   "cell_type": "code",
   "execution_count": 113,
   "metadata": {},
   "outputs": [],
   "source": [
    "start = mindf.first_valid_index().strftime('%Y-%m-%d')\n",
    "end = mindf.last_valid_index().strftime('%Y-%m-%d')\n",
    "dailydf = web.DataReader(\"RELIANCE.NS\", 'yahoo', start, end)\n",
    "\n",
    "#dailydf = (df.resample('1 D')\n",
    "#               .agg({'open': 'first', 'high': 'max', 'low': 'min', 'close': 'last', 'volume':'mean'}))\n",
    "\n",
    "\n",
    "dailydf=dailydf.dropna()\n",
    "dma = dailydf['Adj Close'].rolling(window=20).mean()\n",
    "dailydf['ma']=dma\n",
    "dailydf=dailydf.dropna()\n",
    "dailydf=DataFrame(dailydf)\n",
    "\n"
   ]
  },
  {
   "cell_type": "code",
   "execution_count": 114,
   "metadata": {},
   "outputs": [
    {
     "data": {
      "text/html": [
       "<div>\n",
       "<style scoped>\n",
       "    .dataframe tbody tr th:only-of-type {\n",
       "        vertical-align: middle;\n",
       "    }\n",
       "\n",
       "    .dataframe tbody tr th {\n",
       "        vertical-align: top;\n",
       "    }\n",
       "\n",
       "    .dataframe thead th {\n",
       "        text-align: right;\n",
       "    }\n",
       "</style>\n",
       "<table border=\"1\" class=\"dataframe\">\n",
       "  <thead>\n",
       "    <tr style=\"text-align: right;\">\n",
       "      <th></th>\n",
       "      <th>high</th>\n",
       "      <th>low</th>\n",
       "      <th>open</th>\n",
       "      <th>close</th>\n",
       "      <th>ma</th>\n",
       "    </tr>\n",
       "    <tr>\n",
       "      <th>Date</th>\n",
       "      <th></th>\n",
       "      <th></th>\n",
       "      <th></th>\n",
       "      <th></th>\n",
       "      <th></th>\n",
       "    </tr>\n",
       "  </thead>\n",
       "  <tbody>\n",
       "    <tr>\n",
       "      <th>2015-11-10</th>\n",
       "      <td>479.750000</td>\n",
       "      <td>458.149994</td>\n",
       "      <td>478.500000</td>\n",
       "      <td>441.818207</td>\n",
       "      <td>450.203297</td>\n",
       "    </tr>\n",
       "    <tr>\n",
       "      <th>2015-11-13</th>\n",
       "      <td>469.274994</td>\n",
       "      <td>457.250000</td>\n",
       "      <td>457.524994</td>\n",
       "      <td>446.749908</td>\n",
       "      <td>451.147745</td>\n",
       "    </tr>\n",
       "    <tr>\n",
       "      <th>2015-11-16</th>\n",
       "      <td>471.000000</td>\n",
       "      <td>462.375000</td>\n",
       "      <td>463.000000</td>\n",
       "      <td>447.348419</td>\n",
       "      <td>451.898273</td>\n",
       "    </tr>\n",
       "    <tr>\n",
       "      <th>2015-11-17</th>\n",
       "      <td>469.450012</td>\n",
       "      <td>463.100006</td>\n",
       "      <td>469.024994</td>\n",
       "      <td>444.212250</td>\n",
       "      <td>452.474039</td>\n",
       "    </tr>\n",
       "    <tr>\n",
       "      <th>2015-11-18</th>\n",
       "      <td>465.649994</td>\n",
       "      <td>454.975006</td>\n",
       "      <td>463.799988</td>\n",
       "      <td>436.671021</td>\n",
       "      <td>452.407005</td>\n",
       "    </tr>\n",
       "  </tbody>\n",
       "</table>\n",
       "</div>"
      ],
      "text/plain": [
       "                  high         low        open       close          ma\n",
       "Date                                                                  \n",
       "2015-11-10  479.750000  458.149994  478.500000  441.818207  450.203297\n",
       "2015-11-13  469.274994  457.250000  457.524994  446.749908  451.147745\n",
       "2015-11-16  471.000000  462.375000  463.000000  447.348419  451.898273\n",
       "2015-11-17  469.450012  463.100006  469.024994  444.212250  452.474039\n",
       "2015-11-18  465.649994  454.975006  463.799988  436.671021  452.407005"
      ]
     },
     "execution_count": 114,
     "metadata": {},
     "output_type": "execute_result"
    }
   ],
   "source": [
    "dailydf = dailydf.drop(columns=['Close','Volume'])\n",
    "dailydf.columns=['high','low','open','close','ma']\n",
    "dailydf = dailydf.rename(index={'Date': 'date'})\n",
    "dailydf.head()"
   ]
  },
  {
   "cell_type": "code",
   "execution_count": 115,
   "metadata": {},
   "outputs": [],
   "source": [
    "pivots= (dailydf['high'].shift(1) + dailydf['low'].shift(1) + dailydf['close'].shift(1))/3\n",
    "\n",
    "r1 = 2*pivots.shift(1) - dailydf['low'].shift(1)"
   ]
  },
  {
   "cell_type": "code",
   "execution_count": 116,
   "metadata": {},
   "outputs": [
    {
     "data": {
      "text/html": [
       "<div>\n",
       "<style scoped>\n",
       "    .dataframe tbody tr th:only-of-type {\n",
       "        vertical-align: middle;\n",
       "    }\n",
       "\n",
       "    .dataframe tbody tr th {\n",
       "        vertical-align: top;\n",
       "    }\n",
       "\n",
       "    .dataframe thead th {\n",
       "        text-align: right;\n",
       "    }\n",
       "</style>\n",
       "<table border=\"1\" class=\"dataframe\">\n",
       "  <thead>\n",
       "    <tr style=\"text-align: right;\">\n",
       "      <th></th>\n",
       "      <th>high</th>\n",
       "      <th>low</th>\n",
       "      <th>open</th>\n",
       "      <th>close</th>\n",
       "      <th>ma</th>\n",
       "      <th>pivot</th>\n",
       "      <th>r1</th>\n",
       "    </tr>\n",
       "    <tr>\n",
       "      <th>Date</th>\n",
       "      <th></th>\n",
       "      <th></th>\n",
       "      <th></th>\n",
       "      <th></th>\n",
       "      <th></th>\n",
       "      <th></th>\n",
       "      <th></th>\n",
       "    </tr>\n",
       "  </thead>\n",
       "  <tbody>\n",
       "    <tr>\n",
       "      <th>2015-11-16</th>\n",
       "      <td>471.000000</td>\n",
       "      <td>462.375000</td>\n",
       "      <td>463.000000</td>\n",
       "      <td>447.348419</td>\n",
       "      <td>451.898273</td>\n",
       "      <td>457.758301</td>\n",
       "      <td>462.562134</td>\n",
       "    </tr>\n",
       "    <tr>\n",
       "      <th>2015-11-17</th>\n",
       "      <td>469.450012</td>\n",
       "      <td>463.100006</td>\n",
       "      <td>469.024994</td>\n",
       "      <td>444.212250</td>\n",
       "      <td>452.474039</td>\n",
       "      <td>460.241140</td>\n",
       "      <td>453.141602</td>\n",
       "    </tr>\n",
       "    <tr>\n",
       "      <th>2015-11-18</th>\n",
       "      <td>465.649994</td>\n",
       "      <td>454.975006</td>\n",
       "      <td>463.799988</td>\n",
       "      <td>436.671021</td>\n",
       "      <td>452.407005</td>\n",
       "      <td>458.920756</td>\n",
       "      <td>457.382273</td>\n",
       "    </tr>\n",
       "    <tr>\n",
       "      <th>2015-11-19</th>\n",
       "      <td>469.350006</td>\n",
       "      <td>458.625000</td>\n",
       "      <td>459.450012</td>\n",
       "      <td>447.563873</td>\n",
       "      <td>451.718721</td>\n",
       "      <td>452.432007</td>\n",
       "      <td>462.866506</td>\n",
       "    </tr>\n",
       "    <tr>\n",
       "      <th>2015-11-20</th>\n",
       "      <td>476.399994</td>\n",
       "      <td>462.774994</td>\n",
       "      <td>467.000000</td>\n",
       "      <td>453.357422</td>\n",
       "      <td>451.482907</td>\n",
       "      <td>458.512960</td>\n",
       "      <td>446.239014</td>\n",
       "    </tr>\n",
       "  </tbody>\n",
       "</table>\n",
       "</div>"
      ],
      "text/plain": [
       "                  high         low        open       close          ma  \\\n",
       "Date                                                                     \n",
       "2015-11-16  471.000000  462.375000  463.000000  447.348419  451.898273   \n",
       "2015-11-17  469.450012  463.100006  469.024994  444.212250  452.474039   \n",
       "2015-11-18  465.649994  454.975006  463.799988  436.671021  452.407005   \n",
       "2015-11-19  469.350006  458.625000  459.450012  447.563873  451.718721   \n",
       "2015-11-20  476.399994  462.774994  467.000000  453.357422  451.482907   \n",
       "\n",
       "                 pivot          r1  \n",
       "Date                                \n",
       "2015-11-16  457.758301  462.562134  \n",
       "2015-11-17  460.241140  453.141602  \n",
       "2015-11-18  458.920756  457.382273  \n",
       "2015-11-19  452.432007  462.866506  \n",
       "2015-11-20  458.512960  446.239014  "
      ]
     },
     "execution_count": 116,
     "metadata": {},
     "output_type": "execute_result"
    }
   ],
   "source": [
    "dailydf['pivot'] = pivots\n",
    "dailydf['r1'] = r1\n",
    "dailydf = dailydf.dropna()   \n",
    "dailydf.head()"
   ]
  },
  {
   "cell_type": "code",
   "execution_count": 117,
   "metadata": {},
   "outputs": [],
   "source": [
    "dailydf['ret']=0\n",
    "dailydf1 = copy.deepcopy(dailydf)"
   ]
  },
  {
   "cell_type": "code",
   "execution_count": 118,
   "metadata": {},
   "outputs": [
    {
     "data": {
      "text/html": [
       "<div>\n",
       "<style scoped>\n",
       "    .dataframe tbody tr th:only-of-type {\n",
       "        vertical-align: middle;\n",
       "    }\n",
       "\n",
       "    .dataframe tbody tr th {\n",
       "        vertical-align: top;\n",
       "    }\n",
       "\n",
       "    .dataframe thead th {\n",
       "        text-align: right;\n",
       "    }\n",
       "</style>\n",
       "<table border=\"1\" class=\"dataframe\">\n",
       "  <thead>\n",
       "    <tr style=\"text-align: right;\">\n",
       "      <th></th>\n",
       "      <th>high</th>\n",
       "      <th>low</th>\n",
       "      <th>open</th>\n",
       "      <th>close</th>\n",
       "      <th>ma</th>\n",
       "      <th>pivot</th>\n",
       "      <th>r1</th>\n",
       "      <th>ret</th>\n",
       "      <th>cap</th>\n",
       "    </tr>\n",
       "    <tr>\n",
       "      <th>Date</th>\n",
       "      <th></th>\n",
       "      <th></th>\n",
       "      <th></th>\n",
       "      <th></th>\n",
       "      <th></th>\n",
       "      <th></th>\n",
       "      <th></th>\n",
       "      <th></th>\n",
       "      <th></th>\n",
       "    </tr>\n",
       "  </thead>\n",
       "  <tbody>\n",
       "    <tr>\n",
       "      <th>2015-11-16</th>\n",
       "      <td>471.000000</td>\n",
       "      <td>462.375000</td>\n",
       "      <td>463.000000</td>\n",
       "      <td>447.348419</td>\n",
       "      <td>451.898273</td>\n",
       "      <td>457.758301</td>\n",
       "      <td>462.562134</td>\n",
       "      <td>0</td>\n",
       "      <td>100000</td>\n",
       "    </tr>\n",
       "    <tr>\n",
       "      <th>2015-11-17</th>\n",
       "      <td>469.450012</td>\n",
       "      <td>463.100006</td>\n",
       "      <td>469.024994</td>\n",
       "      <td>444.212250</td>\n",
       "      <td>452.474039</td>\n",
       "      <td>460.241140</td>\n",
       "      <td>453.141602</td>\n",
       "      <td>0</td>\n",
       "      <td>100000</td>\n",
       "    </tr>\n",
       "    <tr>\n",
       "      <th>2015-11-18</th>\n",
       "      <td>465.649994</td>\n",
       "      <td>454.975006</td>\n",
       "      <td>463.799988</td>\n",
       "      <td>436.671021</td>\n",
       "      <td>452.407005</td>\n",
       "      <td>458.920756</td>\n",
       "      <td>457.382273</td>\n",
       "      <td>0</td>\n",
       "      <td>100000</td>\n",
       "    </tr>\n",
       "    <tr>\n",
       "      <th>2015-11-19</th>\n",
       "      <td>469.350006</td>\n",
       "      <td>458.625000</td>\n",
       "      <td>459.450012</td>\n",
       "      <td>447.563873</td>\n",
       "      <td>451.718721</td>\n",
       "      <td>452.432007</td>\n",
       "      <td>462.866506</td>\n",
       "      <td>0</td>\n",
       "      <td>100000</td>\n",
       "    </tr>\n",
       "    <tr>\n",
       "      <th>2015-11-20</th>\n",
       "      <td>476.399994</td>\n",
       "      <td>462.774994</td>\n",
       "      <td>467.000000</td>\n",
       "      <td>453.357422</td>\n",
       "      <td>451.482907</td>\n",
       "      <td>458.512960</td>\n",
       "      <td>446.239014</td>\n",
       "      <td>0</td>\n",
       "      <td>100000</td>\n",
       "    </tr>\n",
       "    <tr>\n",
       "      <th>...</th>\n",
       "      <td>...</td>\n",
       "      <td>...</td>\n",
       "      <td>...</td>\n",
       "      <td>...</td>\n",
       "      <td>...</td>\n",
       "      <td>...</td>\n",
       "      <td>...</td>\n",
       "      <td>...</td>\n",
       "      <td>...</td>\n",
       "    </tr>\n",
       "    <tr>\n",
       "      <th>2020-10-30</th>\n",
       "      <td>2065.100098</td>\n",
       "      <td>2021.800049</td>\n",
       "      <td>2033.500000</td>\n",
       "      <td>2054.500000</td>\n",
       "      <td>2158.672498</td>\n",
       "      <td>2019.966675</td>\n",
       "      <td>2060.033285</td>\n",
       "      <td>0</td>\n",
       "      <td>100000</td>\n",
       "    </tr>\n",
       "    <tr>\n",
       "      <th>2020-11-02</th>\n",
       "      <td>2027.000000</td>\n",
       "      <td>1859.150024</td>\n",
       "      <td>2027.000000</td>\n",
       "      <td>1877.449951</td>\n",
       "      <td>2141.934998</td>\n",
       "      <td>2047.133382</td>\n",
       "      <td>2018.133301</td>\n",
       "      <td>0</td>\n",
       "      <td>100000</td>\n",
       "    </tr>\n",
       "    <tr>\n",
       "      <th>2020-11-03</th>\n",
       "      <td>1909.000000</td>\n",
       "      <td>1835.099976</td>\n",
       "      <td>1890.000000</td>\n",
       "      <td>1850.400024</td>\n",
       "      <td>2123.937494</td>\n",
       "      <td>1921.199992</td>\n",
       "      <td>2235.116740</td>\n",
       "      <td>0</td>\n",
       "      <td>100000</td>\n",
       "    </tr>\n",
       "    <tr>\n",
       "      <th>2020-11-04</th>\n",
       "      <td>1929.000000</td>\n",
       "      <td>1837.000000</td>\n",
       "      <td>1837.000000</td>\n",
       "      <td>1913.199951</td>\n",
       "      <td>2106.722491</td>\n",
       "      <td>1864.833333</td>\n",
       "      <td>2007.300008</td>\n",
       "      <td>0</td>\n",
       "      <td>100000</td>\n",
       "    </tr>\n",
       "    <tr>\n",
       "      <th>2020-11-05</th>\n",
       "      <td>1960.949951</td>\n",
       "      <td>1932.000000</td>\n",
       "      <td>1954.949951</td>\n",
       "      <td>1955.000000</td>\n",
       "      <td>2092.509991</td>\n",
       "      <td>1893.066650</td>\n",
       "      <td>1892.666667</td>\n",
       "      <td>0</td>\n",
       "      <td>100000</td>\n",
       "    </tr>\n",
       "  </tbody>\n",
       "</table>\n",
       "<p>1227 rows × 9 columns</p>\n",
       "</div>"
      ],
      "text/plain": [
       "                   high          low         open        close           ma  \\\n",
       "Date                                                                          \n",
       "2015-11-16   471.000000   462.375000   463.000000   447.348419   451.898273   \n",
       "2015-11-17   469.450012   463.100006   469.024994   444.212250   452.474039   \n",
       "2015-11-18   465.649994   454.975006   463.799988   436.671021   452.407005   \n",
       "2015-11-19   469.350006   458.625000   459.450012   447.563873   451.718721   \n",
       "2015-11-20   476.399994   462.774994   467.000000   453.357422   451.482907   \n",
       "...                 ...          ...          ...          ...          ...   \n",
       "2020-10-30  2065.100098  2021.800049  2033.500000  2054.500000  2158.672498   \n",
       "2020-11-02  2027.000000  1859.150024  2027.000000  1877.449951  2141.934998   \n",
       "2020-11-03  1909.000000  1835.099976  1890.000000  1850.400024  2123.937494   \n",
       "2020-11-04  1929.000000  1837.000000  1837.000000  1913.199951  2106.722491   \n",
       "2020-11-05  1960.949951  1932.000000  1954.949951  1955.000000  2092.509991   \n",
       "\n",
       "                  pivot           r1  ret     cap  \n",
       "Date                                               \n",
       "2015-11-16   457.758301   462.562134    0  100000  \n",
       "2015-11-17   460.241140   453.141602    0  100000  \n",
       "2015-11-18   458.920756   457.382273    0  100000  \n",
       "2015-11-19   452.432007   462.866506    0  100000  \n",
       "2015-11-20   458.512960   446.239014    0  100000  \n",
       "...                 ...          ...  ...     ...  \n",
       "2020-10-30  2019.966675  2060.033285    0  100000  \n",
       "2020-11-02  2047.133382  2018.133301    0  100000  \n",
       "2020-11-03  1921.199992  2235.116740    0  100000  \n",
       "2020-11-04  1864.833333  2007.300008    0  100000  \n",
       "2020-11-05  1893.066650  1892.666667    0  100000  \n",
       "\n",
       "[1227 rows x 9 columns]"
      ]
     },
     "execution_count": 118,
     "metadata": {},
     "output_type": "execute_result"
    }
   ],
   "source": [
    "capital = 100000\n",
    "dailydf1['cap']=100000\n",
    "dailydf1.head()\n",
    "returns = dailydf1['cap']\n",
    "dailydf1"
   ]
  },
  {
   "cell_type": "code",
   "execution_count": 119,
   "metadata": {},
   "outputs": [],
   "source": [
    "def getTrailingReturns(df,r1,capital):\n",
    "    pos = 0\n",
    "    entry = 0\n",
    "    sl = 0\n",
    "    risk = capital*0.01\n",
    "    size = 0\n",
    "    profit = 0\n",
    "    firsttgt=0\n",
    "    for index, row in df.iterrows():\n",
    "        if(pos==0):\n",
    "            if(row['close']>r1 and entry==0):\n",
    "                entry=row['high']\n",
    "                sl = row['low']\n",
    "                size = round(risk/(entry-sl))\n",
    "                firsttgt = entry + (2*(entry-sl))\n",
    "            elif(row['high']>entry and entry!=0):\n",
    "                pos = 1\n",
    "        else:\n",
    "            if(row['low']<sl):\n",
    "                return size*(sl-entry)\n",
    "            elif(row.high>firsttgt):\n",
    "                return size*(firsttgt-entry)\n",
    "            elif(row['low']<sl):\n",
    "                return size*(sl-entry)\n",
    "            if(index.time() == pd.to_datetime('15:05').time()):\n",
    "                return size*(row['close'] - entry)\n",
    "    return profit  "
   ]
  },
  {
   "cell_type": "code",
   "execution_count": 7,
   "metadata": {},
   "outputs": [
    {
     "data": {
      "text/plain": [
       "True"
      ]
     },
     "execution_count": 7,
     "metadata": {},
     "output_type": "execute_result"
    }
   ],
   "source": [
    "\n",
    "import pandas as pd\n",
    "import datetime\n",
    "datetime.datetime.now().hour < 14"
   ]
  },
  {
   "cell_type": "code",
   "execution_count": 120,
   "metadata": {},
   "outputs": [],
   "source": [
    "def getReturns(df,r1,capital):\n",
    "    pos = 0\n",
    "    entry = 0\n",
    "    sl = 0\n",
    "    risk = capital*0.01\n",
    "    size = 0\n",
    "    for index, row in df.iterrows():\n",
    "        if(row['close']>r1 and pos==0 and entry==0 and row.close>row.ma): \n",
    "            entry=row['high']\n",
    "            sl = row['low']\n",
    "            if(entry-sl == 0):\n",
    "                print(index)\n",
    "            size = round(risk/(entry-sl))\n",
    "        if(row['high']>entry and pos==0 and entry!=0):\n",
    "            pos = 1\n",
    "        if(row['low']<sl and pos==1):\n",
    "            return size*(sl-entry)\n",
    "        if(index.time() == pd.to_datetime('15:05').time() and pos==1):\n",
    "            return size*(row['close'] - entry)\n",
    "    return 0  \n",
    "    "
   ]
  },
  {
   "cell_type": "code",
   "execution_count": 123,
   "metadata": {},
   "outputs": [],
   "source": [
    "dailydf['signal'] = np.where(dailydf.close>dailydf.ma,1,0)\n",
    "dailydf['signal'] = dailydf['signal'].shift(1)\n",
    "dailydf = dailydf.dropna()\n",
    "\n",
    "mindf = mindf.query(\"low != high\")"
   ]
  },
  {
   "cell_type": "code",
   "execution_count": 124,
   "metadata": {},
   "outputs": [],
   "source": [
    "capital = 100000\n",
    "for index, row in dailydf.iterrows():\n",
    "    dailyr = 0\n",
    "    if(row.open!=row.close and row.low!=row.high):\n",
    "        dailyr = getReturns(mindf.loc[index.strftime('%Y-%m-%d')], row.r1, capital)\n",
    "        capital = capital + dailyr\n",
    "        dailydf1.at[index.strftime('%Y-%m-%d'), 'ret']= dailyr\n",
    "        returns.at[index.strftime('%Y-%m-%d')] = capital\n",
    "\n"
   ]
  },
  {
   "cell_type": "code",
   "execution_count": 125,
   "metadata": {},
   "outputs": [
    {
     "data": {
      "text/plain": [
       "340305.24999999616"
      ]
     },
     "execution_count": 125,
     "metadata": {},
     "output_type": "execute_result"
    }
   ],
   "source": [
    "capital"
   ]
  },
  {
   "cell_type": "code",
   "execution_count": 126,
   "metadata": {},
   "outputs": [],
   "source": [
    "%matplotlib inline"
   ]
  },
  {
   "cell_type": "code",
   "execution_count": 127,
   "metadata": {},
   "outputs": [
    {
     "data": {
      "text/plain": [
       "<matplotlib.axes._subplots.AxesSubplot at 0xb2b5dea820>"
      ]
     },
     "execution_count": 127,
     "metadata": {},
     "output_type": "execute_result"
    },
    {
     "data": {
      "image/png": "[encoded data removed]",
      "text/plain": [
       "<Figure size 1080x432 with 1 Axes>"
      ]
     },
     "metadata": {
      "needs_background": "light"
     },
     "output_type": "display_data"
    }
   ],
   "source": [
    "dailydf1['dailyr']=returns\n",
    "dailydf1.plot(y='dailyr',figsize=(15, 6))"
   ]
  },
  {
   "cell_type": "code",
   "execution_count": 128,
   "metadata": {},
   "outputs": [
    {
     "data": {
      "text/plain": [
       "Date\n",
       "2015-11-16    100000.00\n",
       "2015-11-17    100000.00\n",
       "2015-11-18    100000.00\n",
       "2015-11-19     99000.40\n",
       "2015-11-20    101099.20\n",
       "                ...    \n",
       "2020-10-30    343745.05\n",
       "2020-11-02    343745.05\n",
       "2020-11-03    343745.05\n",
       "2020-11-04    343745.05\n",
       "2020-11-05    340305.25\n",
       "Name: cap, Length: 1227, dtype: float64"
      ]
     },
     "execution_count": 128,
     "metadata": {},
     "output_type": "execute_result"
    }
   ],
   "source": [
    "returns\n"
   ]
  },
  {
   "cell_type": "code",
   "execution_count": 129,
   "metadata": {},
   "outputs": [],
   "source": [
    "CAGR = (311476/100000)**(1/5)-1"
   ]
  },
  {
   "cell_type": "code",
   "execution_count": 130,
   "metadata": {},
   "outputs": [
    {
     "data": {
      "text/html": [
       "<div>\n",
       "<style scoped>\n",
       "    .dataframe tbody tr th:only-of-type {\n",
       "        vertical-align: middle;\n",
       "    }\n",
       "\n",
       "    .dataframe tbody tr th {\n",
       "        vertical-align: top;\n",
       "    }\n",
       "\n",
       "    .dataframe thead th {\n",
       "        text-align: right;\n",
       "    }\n",
       "</style>\n",
       "<table border=\"1\" class=\"dataframe\">\n",
       "  <thead>\n",
       "    <tr style=\"text-align: right;\">\n",
       "      <th></th>\n",
       "      <th>high</th>\n",
       "      <th>low</th>\n",
       "      <th>open</th>\n",
       "      <th>close</th>\n",
       "      <th>ma</th>\n",
       "      <th>pivot</th>\n",
       "      <th>r1</th>\n",
       "      <th>ret</th>\n",
       "      <th>cap</th>\n",
       "      <th>dailyr</th>\n",
       "    </tr>\n",
       "    <tr>\n",
       "      <th>Date</th>\n",
       "      <th></th>\n",
       "      <th></th>\n",
       "      <th></th>\n",
       "      <th></th>\n",
       "      <th></th>\n",
       "      <th></th>\n",
       "      <th></th>\n",
       "      <th></th>\n",
       "      <th></th>\n",
       "      <th></th>\n",
       "    </tr>\n",
       "  </thead>\n",
       "  <tbody>\n",
       "    <tr>\n",
       "      <th>2015-11-16</th>\n",
       "      <td>471.000000</td>\n",
       "      <td>462.375000</td>\n",
       "      <td>463.000000</td>\n",
       "      <td>447.348419</td>\n",
       "      <td>451.898273</td>\n",
       "      <td>457.758301</td>\n",
       "      <td>462.562134</td>\n",
       "      <td>0.0</td>\n",
       "      <td>100000.0</td>\n",
       "      <td>100000.0</td>\n",
       "    </tr>\n",
       "    <tr>\n",
       "      <th>2015-11-17</th>\n",
       "      <td>469.450012</td>\n",
       "      <td>463.100006</td>\n",
       "      <td>469.024994</td>\n",
       "      <td>444.212250</td>\n",
       "      <td>452.474039</td>\n",
       "      <td>460.241140</td>\n",
       "      <td>453.141602</td>\n",
       "      <td>0.0</td>\n",
       "      <td>100000.0</td>\n",
       "      <td>100000.0</td>\n",
       "    </tr>\n",
       "    <tr>\n",
       "      <th>2015-11-18</th>\n",
       "      <td>465.649994</td>\n",
       "      <td>454.975006</td>\n",
       "      <td>463.799988</td>\n",
       "      <td>436.671021</td>\n",
       "      <td>452.407005</td>\n",
       "      <td>458.920756</td>\n",
       "      <td>457.382273</td>\n",
       "      <td>0.0</td>\n",
       "      <td>100000.0</td>\n",
       "      <td>100000.0</td>\n",
       "    </tr>\n",
       "    <tr>\n",
       "      <th>2015-11-19</th>\n",
       "      <td>469.350006</td>\n",
       "      <td>458.625000</td>\n",
       "      <td>459.450012</td>\n",
       "      <td>447.563873</td>\n",
       "      <td>451.718721</td>\n",
       "      <td>452.432007</td>\n",
       "      <td>462.866506</td>\n",
       "      <td>-999.6</td>\n",
       "      <td>99000.4</td>\n",
       "      <td>99000.4</td>\n",
       "    </tr>\n",
       "    <tr>\n",
       "      <th>2015-11-20</th>\n",
       "      <td>476.399994</td>\n",
       "      <td>462.774994</td>\n",
       "      <td>467.000000</td>\n",
       "      <td>453.357422</td>\n",
       "      <td>451.482907</td>\n",
       "      <td>458.512960</td>\n",
       "      <td>446.239014</td>\n",
       "      <td>2098.8</td>\n",
       "      <td>101099.2</td>\n",
       "      <td>101099.2</td>\n",
       "    </tr>\n",
       "    <tr>\n",
       "      <th>2015-11-23</th>\n",
       "      <td>478.950012</td>\n",
       "      <td>473.100006</td>\n",
       "      <td>475.000000</td>\n",
       "      <td>456.661224</td>\n",
       "      <td>451.452985</td>\n",
       "      <td>464.177470</td>\n",
       "      <td>454.250926</td>\n",
       "      <td>0.0</td>\n",
       "      <td>101099.2</td>\n",
       "      <td>101099.2</td>\n",
       "    </tr>\n",
       "    <tr>\n",
       "      <th>2015-11-24</th>\n",
       "      <td>485.799988</td>\n",
       "      <td>475.524994</td>\n",
       "      <td>476.500000</td>\n",
       "      <td>463.340515</td>\n",
       "      <td>451.741463</td>\n",
       "      <td>469.570414</td>\n",
       "      <td>455.254934</td>\n",
       "      <td>-1010.4</td>\n",
       "      <td>100088.8</td>\n",
       "      <td>100088.8</td>\n",
       "    </tr>\n",
       "    <tr>\n",
       "      <th>2015-11-26</th>\n",
       "      <td>495.975006</td>\n",
       "      <td>484.125000</td>\n",
       "      <td>485.500000</td>\n",
       "      <td>473.371552</td>\n",
       "      <td>452.837932</td>\n",
       "      <td>474.888499</td>\n",
       "      <td>463.615835</td>\n",
       "      <td>2502.5</td>\n",
       "      <td>102591.3</td>\n",
       "      <td>102591.3</td>\n",
       "    </tr>\n",
       "    <tr>\n",
       "      <th>2015-11-27</th>\n",
       "      <td>496.250000</td>\n",
       "      <td>487.049988</td>\n",
       "      <td>494.500000</td>\n",
       "      <td>468.774963</td>\n",
       "      <td>453.783572</td>\n",
       "      <td>484.490519</td>\n",
       "      <td>465.651998</td>\n",
       "      <td>-248.8</td>\n",
       "      <td>102342.5</td>\n",
       "      <td>102342.5</td>\n",
       "    </tr>\n",
       "    <tr>\n",
       "      <th>2015-11-30</th>\n",
       "      <td>492.200012</td>\n",
       "      <td>481.149994</td>\n",
       "      <td>489.250000</td>\n",
       "      <td>463.053223</td>\n",
       "      <td>454.505371</td>\n",
       "      <td>484.024984</td>\n",
       "      <td>481.931051</td>\n",
       "      <td>0.0</td>\n",
       "      <td>102342.5</td>\n",
       "      <td>102342.5</td>\n",
       "    </tr>\n",
       "  </tbody>\n",
       "</table>\n",
       "</div>"
      ],
      "text/plain": [
       "                  high         low        open       close          ma  \\\n",
       "Date                                                                     \n",
       "2015-11-16  471.000000  462.375000  463.000000  447.348419  451.898273   \n",
       "2015-11-17  469.450012  463.100006  469.024994  444.212250  452.474039   \n",
       "2015-11-18  465.649994  454.975006  463.799988  436.671021  452.407005   \n",
       "2015-11-19  469.350006  458.625000  459.450012  447.563873  451.718721   \n",
       "2015-11-20  476.399994  462.774994  467.000000  453.357422  451.482907   \n",
       "2015-11-23  478.950012  473.100006  475.000000  456.661224  451.452985   \n",
       "2015-11-24  485.799988  475.524994  476.500000  463.340515  451.741463   \n",
       "2015-11-26  495.975006  484.125000  485.500000  473.371552  452.837932   \n",
       "2015-11-27  496.250000  487.049988  494.500000  468.774963  453.783572   \n",
       "2015-11-30  492.200012  481.149994  489.250000  463.053223  454.505371   \n",
       "\n",
       "                 pivot          r1     ret       cap    dailyr  \n",
       "Date                                                            \n",
       "2015-11-16  457.758301  462.562134     0.0  100000.0  100000.0  \n",
       "2015-11-17  460.241140  453.141602     0.0  100000.0  100000.0  \n",
       "2015-11-18  458.920756  457.382273     0.0  100000.0  100000.0  \n",
       "2015-11-19  452.432007  462.866506  -999.6   99000.4   99000.4  \n",
       "2015-11-20  458.512960  446.239014  2098.8  101099.2  101099.2  \n",
       "2015-11-23  464.177470  454.250926     0.0  101099.2  101099.2  \n",
       "2015-11-24  469.570414  455.254934 -1010.4  100088.8  100088.8  \n",
       "2015-11-26  474.888499  463.615835  2502.5  102591.3  102591.3  \n",
       "2015-11-27  484.490519  465.651998  -248.8  102342.5  102342.5  \n",
       "2015-11-30  484.024984  481.931051     0.0  102342.5  102342.5  "
      ]
     },
     "execution_count": 130,
     "metadata": {},
     "output_type": "execute_result"
    }
   ],
   "source": [
    "dailydf1.head(10)"
   ]
  },
  {
   "cell_type": "code",
   "execution_count": 131,
   "metadata": {},
   "outputs": [],
   "source": [
    "noOfTrades = np.count_nonzero(dailydf1.ret)\n",
    "noOfPositiveTrades = np.count_nonzero(dailydf1.ret>0)\n",
    "noOfNegativeTrades = np.count_nonzero(dailydf1.ret<0)\n",
    "maxGain = np.amax(dailydf1.ret)\n",
    "maxLoss = np.amin(dailydf1.ret)\n",
    "\n"
   ]
  },
  {
   "cell_type": "code",
   "execution_count": 132,
   "metadata": {},
   "outputs": [
    {
     "data": {
      "text/plain": [
       "402"
      ]
     },
     "execution_count": 132,
     "metadata": {},
     "output_type": "execute_result"
    }
   ],
   "source": [
    "noOfNegativeTrades"
   ]
  },
  {
   "cell_type": "code",
   "execution_count": 133,
   "metadata": {},
   "outputs": [
    {
     "data": {
      "text/plain": [
       "173"
      ]
     },
     "execution_count": 133,
     "metadata": {},
     "output_type": "execute_result"
    }
   ],
   "source": [
    "noOfPositiveTrades"
   ]
  },
  {
   "cell_type": "code",
   "execution_count": 134,
   "metadata": {},
   "outputs": [
    {
     "data": {
      "text/plain": [
       "77493.5"
      ]
     },
     "execution_count": 134,
     "metadata": {},
     "output_type": "execute_result"
    }
   ],
   "source": [
    "maxGain"
   ]
  },
  {
   "cell_type": "code",
   "execution_count": 37,
   "metadata": {},
   "outputs": [],
   "source": [
    "dailydf1.to_csv('AXISRESULTS.csv')"
   ]
  },
  {
   "cell_type": "code",
   "execution_count": null,
   "metadata": {},
   "outputs": [],
   "source": []
  }
 ],
 "metadata": {
  "kernelspec": {
   "display_name": "Python 3",
   "language": "python",
   "name": "python3"
  },
  "language_info": {
   "codemirror_mode": {
    "name": "ipython",
    "version": 3
   },
   "file_extension": ".py",
   "mimetype": "text/x-python",
   "name": "python",
   "nbconvert_exporter": "python",
   "pygments_lexer": "ipython3",
   "version": "3.8.3"
  }
 },
 "nbformat": 4,
 "nbformat_minor": 4
}
