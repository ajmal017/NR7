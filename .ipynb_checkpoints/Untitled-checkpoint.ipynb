{
 "cells": [
  {
   "cell_type": "code",
   "execution_count": 14,
   "metadata": {},
   "outputs": [],
   "source": [
    "import pandas_datareader as web"
   ]
  },
  {
   "cell_type": "code",
   "execution_count": 21,
   "metadata": {},
   "outputs": [
    {
     "data": {
      "text/html": [
       "<div>\n",
       "<style scoped>\n",
       "    .dataframe tbody tr th:only-of-type {\n",
       "        vertical-align: middle;\n",
       "    }\n",
       "\n",
       "    .dataframe tbody tr th {\n",
       "        vertical-align: top;\n",
       "    }\n",
       "\n",
       "    .dataframe thead th {\n",
       "        text-align: right;\n",
       "    }\n",
       "</style>\n",
       "<table border=\"1\" class=\"dataframe\">\n",
       "  <thead>\n",
       "    <tr style=\"text-align: right;\">\n",
       "      <th></th>\n",
       "      <th>High</th>\n",
       "      <th>Low</th>\n",
       "      <th>Open</th>\n",
       "      <th>Close</th>\n",
       "      <th>Volume</th>\n",
       "      <th>Adj Close</th>\n",
       "    </tr>\n",
       "    <tr>\n",
       "      <th>Date</th>\n",
       "      <th></th>\n",
       "      <th></th>\n",
       "      <th></th>\n",
       "      <th></th>\n",
       "      <th></th>\n",
       "      <th></th>\n",
       "    </tr>\n",
       "  </thead>\n",
       "  <tbody>\n",
       "    <tr>\n",
       "      <th>2018-01-01</th>\n",
       "      <td>922.700012</td>\n",
       "      <td>907.500000</td>\n",
       "      <td>922.700012</td>\n",
       "      <td>909.750000</td>\n",
       "      <td>4321686.0</td>\n",
       "      <td>895.929260</td>\n",
       "    </tr>\n",
       "    <tr>\n",
       "      <th>2018-01-02</th>\n",
       "      <td>919.549988</td>\n",
       "      <td>906.400024</td>\n",
       "      <td>913.000000</td>\n",
       "      <td>911.150024</td>\n",
       "      <td>4342815.0</td>\n",
       "      <td>897.308044</td>\n",
       "    </tr>\n",
       "    <tr>\n",
       "      <th>2018-01-03</th>\n",
       "      <td>926.000000</td>\n",
       "      <td>913.049988</td>\n",
       "      <td>925.000000</td>\n",
       "      <td>914.799988</td>\n",
       "      <td>6175312.0</td>\n",
       "      <td>900.902649</td>\n",
       "    </tr>\n",
       "    <tr>\n",
       "      <th>2018-01-04</th>\n",
       "      <td>921.799988</td>\n",
       "      <td>915.700012</td>\n",
       "      <td>918.150024</td>\n",
       "      <td>920.299988</td>\n",
       "      <td>4118581.0</td>\n",
       "      <td>906.319092</td>\n",
       "    </tr>\n",
       "    <tr>\n",
       "      <th>2018-01-05</th>\n",
       "      <td>926.900024</td>\n",
       "      <td>920.250000</td>\n",
       "      <td>921.799988</td>\n",
       "      <td>923.250000</td>\n",
       "      <td>3401905.0</td>\n",
       "      <td>909.224243</td>\n",
       "    </tr>\n",
       "  </tbody>\n",
       "</table>\n",
       "</div>"
      ],
      "text/plain": [
       "                  High         Low        Open       Close     Volume  \\\n",
       "Date                                                                    \n",
       "2018-01-01  922.700012  907.500000  922.700012  909.750000  4321686.0   \n",
       "2018-01-02  919.549988  906.400024  913.000000  911.150024  4342815.0   \n",
       "2018-01-03  926.000000  913.049988  925.000000  914.799988  6175312.0   \n",
       "2018-01-04  921.799988  915.700012  918.150024  920.299988  4118581.0   \n",
       "2018-01-05  926.900024  920.250000  921.799988  923.250000  3401905.0   \n",
       "\n",
       "             Adj Close  \n",
       "Date                    \n",
       "2018-01-01  895.929260  \n",
       "2018-01-02  897.308044  \n",
       "2018-01-03  900.902649  \n",
       "2018-01-04  906.319092  \n",
       "2018-01-05  909.224243  "
      ]
     },
     "execution_count": 21,
     "metadata": {},
     "output_type": "execute_result"
    }
   ],
   "source": [
    "start = datetime.datetime(2018, 1, 1)\n",
    "end = datetime.datetime(2019, 12, 31)\n",
    "df = web.DataReader(\"RELIANCE.NS\", 'yahoo', start, end)\n",
    "df.head()"
   ]
  },
  {
   "cell_type": "code",
   "execution_count": null,
   "metadata": {},
   "outputs": [],
   "source": []
  }
 ],
 "metadata": {
  "kernelspec": {
   "display_name": "Python 3",
   "language": "python",
   "name": "python3"
  },
  "language_info": {
   "codemirror_mode": {
    "name": "ipython",
    "version": 3
   },
   "file_extension": ".py",
   "mimetype": "text/x-python",
   "name": "python",
   "nbconvert_exporter": "python",
   "pygments_lexer": "ipython3",
   "version": "3.8.5"
  }
 },
 "nbformat": 4,
 "nbformat_minor": 4
}
