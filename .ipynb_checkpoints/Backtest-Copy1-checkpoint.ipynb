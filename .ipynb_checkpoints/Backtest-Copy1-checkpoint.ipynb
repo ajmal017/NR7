{
 "cells": [
  {
   "cell_type": "code",
   "execution_count": 1,
   "metadata": {},
   "outputs": [],
   "source": [
    "import numpy as np\n",
    "import pandas as pd\n",
    "import copy"
   ]
  },
  {
   "cell_type": "code",
   "execution_count": 2,
   "metadata": {},
   "outputs": [],
   "source": [
    "df = pd.read_csv('TCS1.csv')\n",
    "\n",
    "df['date'] = pd.to_datetime(df['date'])\n",
    "df= df.set_index('date')\n"
   ]
  },
  {
   "cell_type": "code",
   "execution_count": 13,
   "metadata": {},
   "outputs": [],
   "source": [
    "mindf = (df.resample('10min', base=5)\n",
    "               .agg({'open': 'first', 'high': 'max', 'low': 'min', 'close': 'last', 'volume':'mean'}))\n",
    "\n",
    "\n",
    "mindf=mindf.dropna()"
   ]
  },
  {
   "cell_type": "code",
   "execution_count": 14,
   "metadata": {},
   "outputs": [],
   "source": [
    "dailydf = (df.resample('1 D')\n",
    "               .agg({'open': 'first', 'high': 'max', 'low': 'min', 'close': 'last', 'volume':'mean'}))\n",
    "\n",
    "\n",
    "dailydf=dailydf.dropna()\n",
    "\n"
   ]
  },
  {
   "cell_type": "code",
   "execution_count": 15,
   "metadata": {},
   "outputs": [],
   "source": [
    "pivots= (dailydf['high'].shift(1) + dailydf['low'].shift(1) + dailydf['close'].shift(1))/3\n"
   ]
  },
  {
   "cell_type": "code",
   "execution_count": 16,
   "metadata": {},
   "outputs": [],
   "source": [
    "r1 = 2*pivots.shift(1) - dailydf['low'].shift(1)"
   ]
  },
  {
   "cell_type": "code",
   "execution_count": 17,
   "metadata": {},
   "outputs": [
    {
     "data": {
      "text/html": [
       "<div>\n",
       "<style scoped>\n",
       "    .dataframe tbody tr th:only-of-type {\n",
       "        vertical-align: middle;\n",
       "    }\n",
       "\n",
       "    .dataframe tbody tr th {\n",
       "        vertical-align: top;\n",
       "    }\n",
       "\n",
       "    .dataframe thead th {\n",
       "        text-align: right;\n",
       "    }\n",
       "</style>\n",
       "<table border=\"1\" class=\"dataframe\">\n",
       "  <thead>\n",
       "    <tr style=\"text-align: right;\">\n",
       "      <th></th>\n",
       "      <th>open</th>\n",
       "      <th>high</th>\n",
       "      <th>low</th>\n",
       "      <th>close</th>\n",
       "      <th>volume</th>\n",
       "      <th>pivot</th>\n",
       "      <th>r1</th>\n",
       "    </tr>\n",
       "    <tr>\n",
       "      <th>date</th>\n",
       "      <th></th>\n",
       "      <th></th>\n",
       "      <th></th>\n",
       "      <th></th>\n",
       "      <th></th>\n",
       "      <th></th>\n",
       "      <th></th>\n",
       "    </tr>\n",
       "  </thead>\n",
       "  <tbody>\n",
       "    <tr>\n",
       "      <th>2019-03-12</th>\n",
       "      <td>2027.70</td>\n",
       "      <td>2062.00</td>\n",
       "      <td>2010.00</td>\n",
       "      <td>2051.00</td>\n",
       "      <td>6768.973333</td>\n",
       "      <td>2034.916667</td>\n",
       "      <td>2435.166667</td>\n",
       "    </tr>\n",
       "    <tr>\n",
       "      <th>2019-04-11</th>\n",
       "      <td>2209.00</td>\n",
       "      <td>2229.20</td>\n",
       "      <td>2180.95</td>\n",
       "      <td>2194.10</td>\n",
       "      <td>4374.600000</td>\n",
       "      <td>2041.000000</td>\n",
       "      <td>2059.833333</td>\n",
       "    </tr>\n",
       "    <tr>\n",
       "      <th>2019-04-12</th>\n",
       "      <td>2050.10</td>\n",
       "      <td>2081.95</td>\n",
       "      <td>2045.70</td>\n",
       "      <td>2077.00</td>\n",
       "      <td>4275.093333</td>\n",
       "      <td>2201.416667</td>\n",
       "      <td>1901.050000</td>\n",
       "    </tr>\n",
       "    <tr>\n",
       "      <th>2019-05-11</th>\n",
       "      <td>2193.95</td>\n",
       "      <td>2211.00</td>\n",
       "      <td>2169.00</td>\n",
       "      <td>2198.00</td>\n",
       "      <td>4041.293333</td>\n",
       "      <td>2068.216667</td>\n",
       "      <td>2357.133333</td>\n",
       "    </tr>\n",
       "    <tr>\n",
       "      <th>2019-05-12</th>\n",
       "      <td>2082.00</td>\n",
       "      <td>2126.60</td>\n",
       "      <td>2068.80</td>\n",
       "      <td>2121.65</td>\n",
       "      <td>4742.520000</td>\n",
       "      <td>2192.666667</td>\n",
       "      <td>1967.433333</td>\n",
       "    </tr>\n",
       "  </tbody>\n",
       "</table>\n",
       "</div>"
      ],
      "text/plain": [
       "               open     high      low    close       volume        pivot  \\\n",
       "date                                                                       \n",
       "2019-03-12  2027.70  2062.00  2010.00  2051.00  6768.973333  2034.916667   \n",
       "2019-04-11  2209.00  2229.20  2180.95  2194.10  4374.600000  2041.000000   \n",
       "2019-04-12  2050.10  2081.95  2045.70  2077.00  4275.093333  2201.416667   \n",
       "2019-05-11  2193.95  2211.00  2169.00  2198.00  4041.293333  2068.216667   \n",
       "2019-05-12  2082.00  2126.60  2068.80  2121.65  4742.520000  2192.666667   \n",
       "\n",
       "                     r1  \n",
       "date                     \n",
       "2019-03-12  2435.166667  \n",
       "2019-04-11  2059.833333  \n",
       "2019-04-12  1901.050000  \n",
       "2019-05-11  2357.133333  \n",
       "2019-05-12  1967.433333  "
      ]
     },
     "execution_count": 17,
     "metadata": {},
     "output_type": "execute_result"
    }
   ],
   "source": [
    "dailydf['pivot'] = pivots\n",
    "dailydf['r1'] = r1\n",
    "dailydf = dailydf.dropna()   \n",
    "dailydf.head()"
   ]
  },
  {
   "cell_type": "code",
   "execution_count": 18,
   "metadata": {},
   "outputs": [],
   "source": [
    "dailydf['ret']=0\n",
    "dailydf1 = copy.deepcopy(dailydf)"
   ]
  },
  {
   "cell_type": "code",
   "execution_count": 19,
   "metadata": {},
   "outputs": [
    {
     "data": {
      "text/html": [
       "<div>\n",
       "<style scoped>\n",
       "    .dataframe tbody tr th:only-of-type {\n",
       "        vertical-align: middle;\n",
       "    }\n",
       "\n",
       "    .dataframe tbody tr th {\n",
       "        vertical-align: top;\n",
       "    }\n",
       "\n",
       "    .dataframe thead th {\n",
       "        text-align: right;\n",
       "    }\n",
       "</style>\n",
       "<table border=\"1\" class=\"dataframe\">\n",
       "  <thead>\n",
       "    <tr style=\"text-align: right;\">\n",
       "      <th></th>\n",
       "      <th>open</th>\n",
       "      <th>high</th>\n",
       "      <th>low</th>\n",
       "      <th>close</th>\n",
       "      <th>volume</th>\n",
       "      <th>pivot</th>\n",
       "      <th>r1</th>\n",
       "      <th>ret</th>\n",
       "      <th>cap</th>\n",
       "    </tr>\n",
       "    <tr>\n",
       "      <th>date</th>\n",
       "      <th></th>\n",
       "      <th></th>\n",
       "      <th></th>\n",
       "      <th></th>\n",
       "      <th></th>\n",
       "      <th></th>\n",
       "      <th></th>\n",
       "      <th></th>\n",
       "      <th></th>\n",
       "    </tr>\n",
       "  </thead>\n",
       "  <tbody>\n",
       "    <tr>\n",
       "      <th>2019-03-12</th>\n",
       "      <td>2027.70</td>\n",
       "      <td>2062.00</td>\n",
       "      <td>2010.00</td>\n",
       "      <td>2051.00</td>\n",
       "      <td>6768.973333</td>\n",
       "      <td>2034.916667</td>\n",
       "      <td>2435.166667</td>\n",
       "      <td>0</td>\n",
       "      <td>100000</td>\n",
       "    </tr>\n",
       "    <tr>\n",
       "      <th>2019-04-11</th>\n",
       "      <td>2209.00</td>\n",
       "      <td>2229.20</td>\n",
       "      <td>2180.95</td>\n",
       "      <td>2194.10</td>\n",
       "      <td>4374.600000</td>\n",
       "      <td>2041.000000</td>\n",
       "      <td>2059.833333</td>\n",
       "      <td>0</td>\n",
       "      <td>100000</td>\n",
       "    </tr>\n",
       "    <tr>\n",
       "      <th>2019-04-12</th>\n",
       "      <td>2050.10</td>\n",
       "      <td>2081.95</td>\n",
       "      <td>2045.70</td>\n",
       "      <td>2077.00</td>\n",
       "      <td>4275.093333</td>\n",
       "      <td>2201.416667</td>\n",
       "      <td>1901.050000</td>\n",
       "      <td>0</td>\n",
       "      <td>100000</td>\n",
       "    </tr>\n",
       "    <tr>\n",
       "      <th>2019-05-11</th>\n",
       "      <td>2193.95</td>\n",
       "      <td>2211.00</td>\n",
       "      <td>2169.00</td>\n",
       "      <td>2198.00</td>\n",
       "      <td>4041.293333</td>\n",
       "      <td>2068.216667</td>\n",
       "      <td>2357.133333</td>\n",
       "      <td>0</td>\n",
       "      <td>100000</td>\n",
       "    </tr>\n",
       "    <tr>\n",
       "      <th>2019-05-12</th>\n",
       "      <td>2082.00</td>\n",
       "      <td>2126.60</td>\n",
       "      <td>2068.80</td>\n",
       "      <td>2121.65</td>\n",
       "      <td>4742.520000</td>\n",
       "      <td>2192.666667</td>\n",
       "      <td>1967.433333</td>\n",
       "      <td>0</td>\n",
       "      <td>100000</td>\n",
       "    </tr>\n",
       "    <tr>\n",
       "      <th>...</th>\n",
       "      <td>...</td>\n",
       "      <td>...</td>\n",
       "      <td>...</td>\n",
       "      <td>...</td>\n",
       "      <td>...</td>\n",
       "      <td>...</td>\n",
       "      <td>...</td>\n",
       "      <td>...</td>\n",
       "      <td>...</td>\n",
       "    </tr>\n",
       "    <tr>\n",
       "      <th>2020-12-03</th>\n",
       "      <td>1900.00</td>\n",
       "      <td>1900.05</td>\n",
       "      <td>1758.35</td>\n",
       "      <td>1772.00</td>\n",
       "      <td>8012.280000</td>\n",
       "      <td>2169.733333</td>\n",
       "      <td>2571.200000</td>\n",
       "      <td>0</td>\n",
       "      <td>100000</td>\n",
       "    </tr>\n",
       "    <tr>\n",
       "      <th>2020-12-05</th>\n",
       "      <td>1933.10</td>\n",
       "      <td>1956.45</td>\n",
       "      <td>1910.30</td>\n",
       "      <td>1948.00</td>\n",
       "      <td>3765.226667</td>\n",
       "      <td>1810.133333</td>\n",
       "      <td>2581.116667</td>\n",
       "      <td>0</td>\n",
       "      <td>100000</td>\n",
       "    </tr>\n",
       "    <tr>\n",
       "      <th>2020-12-06</th>\n",
       "      <td>2015.00</td>\n",
       "      <td>2049.10</td>\n",
       "      <td>2012.00</td>\n",
       "      <td>2037.60</td>\n",
       "      <td>4391.826667</td>\n",
       "      <td>1938.250000</td>\n",
       "      <td>1709.966667</td>\n",
       "      <td>0</td>\n",
       "      <td>100000</td>\n",
       "    </tr>\n",
       "    <tr>\n",
       "      <th>2020-12-08</th>\n",
       "      <td>2280.00</td>\n",
       "      <td>2295.95</td>\n",
       "      <td>2246.55</td>\n",
       "      <td>2262.00</td>\n",
       "      <td>5486.253333</td>\n",
       "      <td>2032.900000</td>\n",
       "      <td>1864.500000</td>\n",
       "      <td>0</td>\n",
       "      <td>100000</td>\n",
       "    </tr>\n",
       "    <tr>\n",
       "      <th>2020-12-10</th>\n",
       "      <td>2816.00</td>\n",
       "      <td>2854.00</td>\n",
       "      <td>2801.05</td>\n",
       "      <td>2828.00</td>\n",
       "      <td>5525.973333</td>\n",
       "      <td>2268.166667</td>\n",
       "      <td>1819.250000</td>\n",
       "      <td>0</td>\n",
       "      <td>100000</td>\n",
       "    </tr>\n",
       "  </tbody>\n",
       "</table>\n",
       "<p>252 rows × 9 columns</p>\n",
       "</div>"
      ],
      "text/plain": [
       "               open     high      low    close       volume        pivot  \\\n",
       "date                                                                       \n",
       "2019-03-12  2027.70  2062.00  2010.00  2051.00  6768.973333  2034.916667   \n",
       "2019-04-11  2209.00  2229.20  2180.95  2194.10  4374.600000  2041.000000   \n",
       "2019-04-12  2050.10  2081.95  2045.70  2077.00  4275.093333  2201.416667   \n",
       "2019-05-11  2193.95  2211.00  2169.00  2198.00  4041.293333  2068.216667   \n",
       "2019-05-12  2082.00  2126.60  2068.80  2121.65  4742.520000  2192.666667   \n",
       "...             ...      ...      ...      ...          ...          ...   \n",
       "2020-12-03  1900.00  1900.05  1758.35  1772.00  8012.280000  2169.733333   \n",
       "2020-12-05  1933.10  1956.45  1910.30  1948.00  3765.226667  1810.133333   \n",
       "2020-12-06  2015.00  2049.10  2012.00  2037.60  4391.826667  1938.250000   \n",
       "2020-12-08  2280.00  2295.95  2246.55  2262.00  5486.253333  2032.900000   \n",
       "2020-12-10  2816.00  2854.00  2801.05  2828.00  5525.973333  2268.166667   \n",
       "\n",
       "                     r1  ret     cap  \n",
       "date                                  \n",
       "2019-03-12  2435.166667    0  100000  \n",
       "2019-04-11  2059.833333    0  100000  \n",
       "2019-04-12  1901.050000    0  100000  \n",
       "2019-05-11  2357.133333    0  100000  \n",
       "2019-05-12  1967.433333    0  100000  \n",
       "...                 ...  ...     ...  \n",
       "2020-12-03  2571.200000    0  100000  \n",
       "2020-12-05  2581.116667    0  100000  \n",
       "2020-12-06  1709.966667    0  100000  \n",
       "2020-12-08  1864.500000    0  100000  \n",
       "2020-12-10  1819.250000    0  100000  \n",
       "\n",
       "[252 rows x 9 columns]"
      ]
     },
     "execution_count": 19,
     "metadata": {},
     "output_type": "execute_result"
    }
   ],
   "source": [
    "capital = 100000\n",
    "dailydf1['cap']=100000\n",
    "dailydf1.head()\n",
    "returns = dailydf1['cap']\n",
    "dailydf1"
   ]
  },
  {
   "cell_type": "code",
   "execution_count": 20,
   "metadata": {},
   "outputs": [],
   "source": [
    "def getTrailingReturns(df,r1,capital):\n",
    "    pos = 0\n",
    "    entry = 0\n",
    "    sl = 0\n",
    "    risk = capital*0.01\n",
    "    size = 0\n",
    "    profit = 0\n",
    "    firsttgt=0\n",
    "    for index, row in df.iterrows():\n",
    "        if(pos==0):\n",
    "            if(row['close']>r1 and entry==0):\n",
    "                entry=row['high']\n",
    "                sl = row['low']\n",
    "                size = round(risk/(entry-sl))\n",
    "                firsttgt = entry + (2*(entry-sl))\n",
    "            elif(row['high']>entry and entry!=0):\n",
    "                pos = 1\n",
    "        else:\n",
    "            if(row['low']<sl):\n",
    "                return size*(sl-entry)\n",
    "            elif(row.high>firsttgt):\n",
    "                return size*(firsttgt-entry)\n",
    "            elif(row['low']<sl):\n",
    "                return size*(sl-entry)\n",
    "            if(index.time() == pd.to_datetime('15:05').time()):\n",
    "                return size*(row['close'] - entry)\n",
    "    return profit  "
   ]
  },
  {
   "cell_type": "code",
   "execution_count": 21,
   "metadata": {},
   "outputs": [],
   "source": [
    "def getReturns(df,r1,capital):\n",
    "    pos = 0\n",
    "    entry = 0\n",
    "    sl = 0\n",
    "    risk = capital*0.01\n",
    "    size = 0\n",
    "    for index, row in df.iterrows():\n",
    "        if(row['close']>r1 and pos==0 and entry==0): \n",
    "            entry=row['high']\n",
    "            sl = row['low']\n",
    "            size = round(risk/(entry-sl))\n",
    "        if(row['high']>entry and pos==0 and entry!=0):\n",
    "            pos = 1\n",
    "        if(row['low']<sl and pos==1):\n",
    "            return size*(sl-entry)\n",
    "        if(index.time() == pd.to_datetime('15:05').time() and pos==1):\n",
    "            return size*(row['close'] - entry)\n",
    "    return 0  \n",
    "    "
   ]
  },
  {
   "cell_type": "code",
   "execution_count": 30,
   "metadata": {},
   "outputs": [],
   "source": [
    "for index, row in dailydf.iterrows():\n",
    "    dailyr = 0\n",
    "    dailyr = getReturns(mindf.loc[index.strftime('%Y-%m-%d')], row.r1, capital)\n",
    "    capital = capital + dailyr\n",
    "    dailydf1.at[index.strftime('%Y-%m-%d'), 'ret']= dailyr\n",
    "    returns.at[index.strftime('%Y-%m-%d')] = capital\n",
    "\n"
   ]
  },
  {
   "cell_type": "code",
   "execution_count": 31,
   "metadata": {},
   "outputs": [
    {
     "data": {
      "text/plain": [
       "101423.20000000008"
      ]
     },
     "execution_count": 31,
     "metadata": {},
     "output_type": "execute_result"
    }
   ],
   "source": [
    "capital"
   ]
  },
  {
   "cell_type": "code",
   "execution_count": 32,
   "metadata": {},
   "outputs": [],
   "source": [
    "%matplotlib inline"
   ]
  },
  {
   "cell_type": "code",
   "execution_count": 33,
   "metadata": {},
   "outputs": [
    {
     "data": {
      "text/plain": [
       "<matplotlib.axes._subplots.AxesSubplot at 0x22976b8970>"
      ]
     },
     "execution_count": 33,
     "metadata": {},
     "output_type": "execute_result"
    },
    {
     "data": {
      "image/png": "[encoded data removed]",
      "text/plain": [
       "<Figure size 432x288 with 1 Axes>"
      ]
     },
     "metadata": {
      "needs_background": "light"
     },
     "output_type": "display_data"
    }
   ],
   "source": [
    "dailydf1['dailyr']=returns\n",
    "dailydf1.plot(y='dailyr')"
   ]
  },
  {
   "cell_type": "code",
   "execution_count": 66,
   "metadata": {},
   "outputs": [
    {
     "data": {
      "text/plain": [
       "date\n",
       "2019-11-20    100000.000000\n",
       "2019-11-21    100000.000000\n",
       "2019-11-22    100000.000000\n",
       "2019-11-25    100000.000000\n",
       "2019-11-26    100000.000000\n",
       "                  ...      \n",
       "2020-12-03     71681.709608\n",
       "2020-12-05     71681.709608\n",
       "2020-12-06     70967.309608\n",
       "2020-12-08     70967.309608\n",
       "2020-12-10     70967.309608\n",
       "Name: cap, Length: 233, dtype: float64"
      ]
     },
     "execution_count": 66,
     "metadata": {},
     "output_type": "execute_result"
    }
   ],
   "source": [
    "returns\n"
   ]
  },
  {
   "cell_type": "code",
   "execution_count": null,
   "metadata": {},
   "outputs": [],
   "source": []
  }
 ],
 "metadata": {
  "kernelspec": {
   "display_name": "Python 3",
   "language": "python",
   "name": "python3"
  },
  "language_info": {
   "codemirror_mode": {
    "name": "ipython",
    "version": 3
   },
   "file_extension": ".py",
   "mimetype": "text/x-python",
   "name": "python",
   "nbconvert_exporter": "python",
   "pygments_lexer": "ipython3",
   "version": "3.8.3"
  }
 },
 "nbformat": 4,
 "nbformat_minor": 4
}
