{
 "cells": [
  {
   "cell_type": "code",
   "execution_count": 1,
   "metadata": {},
   "outputs": [],
   "source": [
    "from nsepy import get_history\n",
    "import time\n",
    "import numpy as np\n",
    "import math, ta\n",
    "from datetime import datetime, date, timedelta"
   ]
  },
  {
   "cell_type": "code",
   "execution_count": 2,
   "metadata": {},
   "outputs": [],
   "source": [
    "symbolslist=[\"MARUTI\",\"TATACONSUM\",\"AMARAJABAT\",\"COALINDIA\",\"ESCORTS\",\"JUBLFOOD\",\"IGL\",\"NESTLEIND\",\"NIITTECH\",\"M&M\",\"PVR\",\n",
    "             \"SUNPHARMA\",\"HEROMOTOCO\",\"RELIANCE\",\"CIPLA\",\"CUMMINSIND\",\"Voltas\",\"BPCL\",\"ACC\",\"ADANITRANS\",\"AMBUJACEM\",\n",
    "             \"ASIANPAINT\",\"ASHOKLEY\",\"AUROPHARMA\",\"DMART\",\"BAJAJHLDNG\",\"BANDHANBNK\",\"BANKBARODA\",\"BERGEPAINT\",\n",
    "             \"BIOCON\",\"BOSCHLTD\",\"CADILAHC\",\"COLPAL\",\"CONCOR\",\"DLF\",\"DABUR\",\"DIVISLAB\",\"GICRE\",\"GODREJCP\",\n",
    "             \"HDFCAMC\",\"HDFCLIFE\",\"HAVELLS\",\"HINDPETRO\",\"HINDZINC\",\"ICICIGI\",\"ICICIPRULI\",\"IBULHSGFIN\",\"INDIGO\",\n",
    "             \"L&TFH\",\"LUPIN\",\"MARICO\",\"MOTHERSUMI\",\"NHPC\",\"NMDC\",\"OFSS\",\"PAGEIND\",\"PETRONET\",\n",
    "             \"PIDILITIND\",\"PEL\",\"PFC\",\"PGHH\",\"SBILIFE\",\"SRTRANSFIN\",\"SIEMENS\", \"TORNTPHARM\", \"NIACL\",\"UBL\",\"MCDOWELL-N\"]"
   ]
  },
  {
   "cell_type": "code",
   "execution_count": 6,
   "metadata": {},
   "outputs": [],
   "source": [
    "def checkReversal(stockname):\n",
    "    endd = datetime.today() + timedelta(1)\n",
    "    stard = datetime.today() - timedelta(130)\n",
    "    print('getting history')\n",
    "    data = get_history(symbol=stockname, start=date(stard.year, stard.month, stard.day), end=date(endd.year,endd.month,endd.day))\n",
    "\n",
    "    revdata = data.sort_values(by=['Date'], inplace=False, ascending=True)\n",
    "    rsi = ta.momentum.RSIIndicator(revdata['Close'],14).rsi()\n",
    "    data['rsi'] = rsi.sort_values(ascending=True)\n",
    "    data.drop(columns=['VWAP', 'Volume', 'Turnover', 'Trades', 'Deliverable Volume', '%Deliverble'])\n",
    "    \n",
    "    return data"
   ]
  },
  {
   "cell_type": "code",
   "execution_count": 10,
   "metadata": {},
   "outputs": [
    {
     "name": "stdout",
     "output_type": "stream",
     "text": [
      "getting history\n",
      "           Symbol Series  Prev Close   Open   High    Low   Last  Close  \\\n",
      "Date                                                                      \n",
      "2020-03-30    PFC     EQ       88.25  87.80  92.55  85.15  88.45  88.75   \n",
      "2020-03-31    PFC     EQ       88.75  91.00  94.25  89.60  91.70  91.95   \n",
      "2020-04-01    PFC     EQ       91.95  91.60  94.20  87.80  89.30  88.90   \n",
      "2020-04-03    PFC     EQ       88.90  89.30  90.40  85.70  85.95  86.25   \n",
      "2020-04-07    PFC     EQ       86.25  89.00  90.40  86.50  89.60  89.40   \n",
      "...           ...    ...         ...    ...    ...    ...    ...    ...   \n",
      "2020-07-30    PFC     EQ       83.70  83.95  85.20  81.10  82.00  82.05   \n",
      "2020-07-31    PFC     EQ       82.05  82.50  82.65  80.70  81.10  80.85   \n",
      "2020-08-03    PFC     EQ       80.85  81.00  82.25  80.55  81.30  81.05   \n",
      "2020-08-04    PFC     EQ       81.05  81.80  82.50  81.00  81.30  81.25   \n",
      "2020-08-05    PFC     EQ       81.25  81.50  83.35  81.45  83.00  82.75   \n",
      "\n",
      "             VWAP   Volume      Turnover Trades Deliverable Volume  \\\n",
      "Date                                                                 \n",
      "2020-03-30  89.65  3676724  3.296005e+13  45364             647637   \n",
      "2020-03-31  92.46  3269743  3.023056e+13  33314            1025202   \n",
      "2020-04-01  90.82  5204010  4.726034e+13  41156            2737747   \n",
      "2020-04-03  87.61  3154844  2.763819e+13  24469             947448   \n",
      "2020-04-07  88.56  3908629  3.461388e+13  46564            1349362   \n",
      "...           ...      ...           ...    ...                ...   \n",
      "2020-07-30  82.74  6165848  5.101878e+13  24848            1834401   \n",
      "2020-07-31  81.31  5160866  4.196259e+13  24661            2443007   \n",
      "2020-08-03  81.39  4568066  3.717724e+13  21604            1682153   \n",
      "2020-08-04  81.49  2971815  2.421695e+13  12125            1101060   \n",
      "2020-08-05  82.40  6140349  5.059745e+13  25134            1659746   \n",
      "\n",
      "            %Deliverble        rsi  rsi_troughs  \n",
      "Date                                             \n",
      "2020-03-30       0.1761        NaN        False  \n",
      "2020-03-31       0.3135        NaN        False  \n",
      "2020-04-01       0.5261        NaN        False  \n",
      "2020-04-03       0.3003        NaN        False  \n",
      "2020-04-07       0.3452        NaN        False  \n",
      "...                 ...        ...          ...  \n",
      "2020-07-30       0.2975  45.887479        False  \n",
      "2020-07-31       0.4734  43.049158         True  \n",
      "2020-08-03       0.3682  43.674483        False  \n",
      "2020-08-04       0.3705  44.332732        False  \n",
      "2020-08-05       0.2703  49.134028        False  \n",
      "\n",
      "[87 rows x 16 columns]\n"
     ]
    }
   ],
   "source": [
    "data = checkReversal('PFC')\n",
    "data['rsi_troughs'] = ((data.rsi < data.rsi.shift(-1)) & (data.rsi < data.rsi.shift(1)))\n",
    "revdata = data.sort_values(by=['Date'], inplace=False, ascending=False)\n",
    "\n",
    "for i in range(0, 14):\n",
    "    if((revdata['rsi_troughs'][i] == True) and (revdata['rsi'][i] > revdata['rsi'][0])\n",
    "       print(revdata['Symbol'][i])\n",
    "            \n"
   ]
  },
  {
   "cell_type": "code",
   "execution_count": 13,
   "metadata": {},
   "outputs": [
    {
     "ename": "NameError",
     "evalue": "name 'data' is not defined",
     "output_type": "error",
     "traceback": [
      "\u001b[1;31m---------------------------------------------------------------------------\u001b[0m",
      "\u001b[1;31mNameError\u001b[0m                                 Traceback (most recent call last)",
      "\u001b[1;32m<ipython-input-13-41bc4a7eb0f5>\u001b[0m in \u001b[0;36m<module>\u001b[1;34m\u001b[0m\n\u001b[1;32m----> 1\u001b[1;33m \u001b[0mdata\u001b[0m\u001b[1;33m.\u001b[0m\u001b[0mdrop\u001b[0m\u001b[1;33m(\u001b[0m\u001b[1;33m[\u001b[0m\u001b[1;34m'VWAP'\u001b[0m\u001b[1;33m,\u001b[0m\u001b[1;34m'Volume'\u001b[0m\u001b[1;33m,\u001b[0m \u001b[1;34m'Turnover'\u001b[0m\u001b[1;33m,\u001b[0m \u001b[1;34m'Trades Deliverable'\u001b[0m\u001b[1;33m,\u001b[0m  \u001b[1;34m'Volume %Deliverble'\u001b[0m\u001b[1;33m]\u001b[0m\u001b[1;33m,\u001b[0m \u001b[0maxis\u001b[0m\u001b[1;33m=\u001b[0m\u001b[1;36m1\u001b[0m\u001b[1;33m)\u001b[0m\u001b[1;33m\u001b[0m\u001b[1;33m\u001b[0m\u001b[0m\n\u001b[0m\u001b[0;32m      2\u001b[0m \u001b[0mprint\u001b[0m\u001b[1;33m(\u001b[0m\u001b[0mdata\u001b[0m\u001b[1;33m.\u001b[0m\u001b[0mtail\u001b[0m\u001b[1;33m(\u001b[0m\u001b[1;33m)\u001b[0m\u001b[1;33m)\u001b[0m\u001b[1;33m\u001b[0m\u001b[1;33m\u001b[0m\u001b[0m\n",
      "\u001b[1;31mNameError\u001b[0m: name 'data' is not defined"
     ]
    }
   ],
   "source": [
    "data.drop(['VWAP','Volume', 'Turnover', 'Trades Deliverable',  'Volume %Deliverble'], axis=1)\n",
    "print(data.tail())"
   ]
  },
  {
   "cell_type": "code",
   "execution_count": 3,
   "metadata": {},
   "outputs": [],
   "source": [
    "def getReversals():\n",
    "    print('started scan..')\n",
    "    index=0\n",
    "    timeout = 1\n",
    "    while(index<len(symbolslist)):\n",
    "        #check(symbolslist[index])\n",
    "        checkReversal(symbolslist[index])\n",
    "        index=index+1\n",
    "        timeout+=1\n",
    "        if timeout==4:\n",
    "            timeout=0\n",
    "            time.sleep(5)\n",
    "            "
   ]
  },
  {
   "cell_type": "code",
   "execution_count": null,
   "metadata": {},
   "outputs": [],
   "source": []
  }
 ],
 "metadata": {
  "kernelspec": {
   "display_name": "Python 3",
   "language": "python",
   "name": "python3"
  },
  "language_info": {
   "codemirror_mode": {
    "name": "ipython",
    "version": 3
   },
   "file_extension": ".py",
   "mimetype": "text/x-python",
   "name": "python",
   "nbconvert_exporter": "python",
   "pygments_lexer": "ipython3",
   "version": "3.8.5"
  }
 },
 "nbformat": 4,
 "nbformat_minor": 4
}
