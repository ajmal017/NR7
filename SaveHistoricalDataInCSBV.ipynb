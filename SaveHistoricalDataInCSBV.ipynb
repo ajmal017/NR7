{
 "cells": [
  {
   "cell_type": "code",
   "execution_count": 11,
   "metadata": {
    "scrolled": true
   },
   "outputs": [
    {
     "data": {
      "text/plain": [
       "<IB connected to 127.0.0.1:7496 clientId=5>"
      ]
     },
     "execution_count": 11,
     "metadata": {},
     "output_type": "execute_result"
    }
   ],
   "source": [
    "from ib_insync import *\n",
    "util.startLoop()\n",
    "\n",
    "ib = IB()\n",
    "ib.connect('127.0.0.1', 7496, clientId=5)"
   ]
  },
  {
   "cell_type": "code",
   "execution_count": 17,
   "metadata": {},
   "outputs": [
    {
     "data": {
      "text/plain": [
       "datetime.datetime(2000, 1, 11, 2, 30)"
      ]
     },
     "execution_count": 17,
     "metadata": {},
     "output_type": "execute_result"
    }
   ],
   "source": [
    "contract = Stock('HCLTECH', 'NSE', 'INR')\n",
    "\n",
    "ib.reqHeadTimeStamp(contract, whatToShow='TRADES', useRTH=True)"
   ]
  },
  {
   "cell_type": "code",
   "execution_count": 18,
   "metadata": {},
   "outputs": [
    {
     "name": "stdout",
     "output_type": "stream",
     "text": [
      "2020-08-28 09:15:00\n",
      "2020-06-19 09:15:00\n",
      "2020-04-03 09:15:00\n",
      "2020-01-22 09:15:00\n",
      "2019-11-08 09:15:00\n",
      "2019-08-22 09:15:00\n",
      "2019-06-11 09:15:00\n",
      "2019-03-26 09:15:00\n",
      "2019-01-11 09:15:00\n",
      "2018-10-29 09:15:00\n",
      "2018-08-10 09:15:00\n",
      "2018-06-01 09:15:00\n",
      "2018-03-20 09:15:00\n",
      "2018-01-04 09:15:00\n",
      "2017-10-25 09:15:00\n",
      "2017-08-10 09:15:00\n",
      "2017-05-31 09:15:00\n",
      "2017-03-17 09:15:00\n",
      "2017-01-03 09:15:00\n",
      "2016-10-21 09:15:00\n",
      "2016-08-05 09:15:00\n",
      "2016-05-26 09:15:00\n",
      "2016-03-10 09:15:00\n",
      "2015-12-29 09:15:00\n",
      "2015-10-14 09:15:00\n"
     ]
    },
    {
     "name": "stderr",
     "output_type": "stream",
     "text": [
      "Error 1100, reqId -1: Connectivity between IB and Trader Workstation has been lost.\n",
      "Error 1100, reqId -1: Connectivity between IB and Trader Workstation has been lost.\n"
     ]
    }
   ],
   "source": [
    "import time\n",
    "dt = ''\n",
    "barsList = []\n",
    "i=0\n",
    "while i<25:\n",
    "    bars = ib.reqHistoricalData(\n",
    "        contract,\n",
    "        endDateTime=dt,\n",
    "        durationStr='50 D',\n",
    "        barSizeSetting='5 mins',\n",
    "        whatToShow='TRADES',\n",
    "        useRTH=True,\n",
    "        formatDate=1)\n",
    "    if not bars:\n",
    "        break\n",
    "    \n",
    "    barsList.append(bars)\n",
    "    time.sleep(5)\n",
    "    i=i+1\n",
    "    dt = bars[0].date\n",
    "    print(dt)\n",
    "\n",
    "# save to CSV file\n",
    "allBars = [b for bars in reversed(barsList) for b in bars]\n",
    "df = util.df(allBars)\n",
    "df.to_csv('INFY5.csv')"
   ]
  },
  {
   "cell_type": "code",
   "execution_count": 84,
   "metadata": {},
   "outputs": [
    {
     "name": "stderr",
     "output_type": "stream",
     "text": [
      "reqHistoricalData: Timeout for Stock(symbol='GRASIM', exchange='NSE', currency='INR')\n",
      "Error 162, reqId 4: Historical Market Data Service error message:API historical data query cancelled: 4, contract: Stock(symbol='GRASIM', exchange='NSE', currency='INR')\n"
     ]
    }
   ],
   "source": [
    "bars = ib.reqHistoricalData(\n",
    "        contract,\n",
    "        endDateTime='',\n",
    "        durationStr='252 D',\n",
    "        barSizeSetting='5 mins',\n",
    "        whatToShow='TRADES',\n",
    "        useRTH=True,\n",
    "        formatDate=1)"
   ]
  },
  {
   "cell_type": "code",
   "execution_count": 68,
   "metadata": {},
   "outputs": [],
   "source": [
    "df = util.df(bars)"
   ]
  },
  {
   "cell_type": "code",
   "execution_count": 69,
   "metadata": {},
   "outputs": [],
   "source": [
    "df.set_index('date')\n",
    "df=df.drop(columns=['average','barCount'])\n",
    "df.to_csv('HCLTECH5.csv')"
   ]
  },
  {
   "cell_type": "code",
   "execution_count": null,
   "metadata": {},
   "outputs": [],
   "source": []
  }
 ],
 "metadata": {
  "kernelspec": {
   "display_name": "Python 3",
   "language": "python",
   "name": "python3"
  },
  "language_info": {
   "codemirror_mode": {
    "name": "ipython",
    "version": 3
   },
   "file_extension": ".py",
   "mimetype": "text/x-python",
   "name": "python",
   "nbconvert_exporter": "python",
   "pygments_lexer": "ipython3",
   "version": "3.8.3"
  }
 },
 "nbformat": 4,
 "nbformat_minor": 4
}
